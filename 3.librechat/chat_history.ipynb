{
 "cells": [
  {
   "cell_type": "markdown",
   "id": "2bc0f498-045e-40c8-a596-9ae1c14de138",
   "metadata": {},
   "source": [
    "# Chat History\n",
    "OpenAI APIでチャット履歴を送る方法"
   ]
  },
  {
   "cell_type": "markdown",
   "id": "f7134945-1520-4d57-b474-0d5a9da3ee08",
   "metadata": {},
   "source": [
    "チャットは過去の話の流れを考慮した会話が出来るが、実際は過去の会話履歴も含めてLLMに問い合わせている\n",
    "。このため、会話が長くなるほど、入力文章が長くなり、処理に時間がかかる。  \n",
    "また、入出力の合計token数がmax_tokensを超えないように注意する必要がある。  \n",
    "\n",
    "role:userとassistantが交互に続く。  \n",
    "```python\n",
    "messages=[\n",
    "    {\"role\": \"system\", \"content\":  \"システムプロンプト\"},\n",
    "    {\"role\": \"user\", \"content\": \"ユーザの質問1\"},\n",
    "    {\"role\": \"assistant\", \"content\": \"LLMの回答1\"},\n",
    "    {\"role\": \"user\", \"content\": \"ユーザの質問2\"},\n",
    "],\n",
    "```"
   ]
  },
  {
   "cell_type": "code",
   "execution_count": 3,
   "id": "4096e45d-5800-4d6a-934a-2f9c77730a67",
   "metadata": {},
   "outputs": [
    {
     "name": "stdout",
     "output_type": "stream",
     "text": [
      "  はい、他にもおすすめの観光スポットはありますが、ここでは3つほどご紹介します:\n",
      "\n",
      "1. 東京駅: 2012年に開業した新幹線ホームやグランスタなどの商業施設を備えた東京駅は、日本の代表的な駅の一つです。\n",
      "\n",
      "2. 皇居: 1945年以降は現天皇の住まいである皇居は、日本で最も有名な観光スポットの一つです。\n",
      "\n",
      "3. 明治神宮: 1920年に創建された明治神宮は、平和と幸運を願う人々の祈りの場として知られています。"
     ]
    }
   ],
   "source": [
    "from openai import OpenAI\n",
    "\n",
    "client = OpenAI(\n",
    "    base_url='http://localhost:8080/v1', ## Endpoint\n",
    "    api_key='Dummy' ## Dummy Key\n",
    ")\n",
    "\n",
    "model = 'gpt-3.5-turbo' ## LLM Model Name\n",
    "\n",
    "system = 'あなたは優秀な日本の観光ガイドです。' ## システムプロンプト\n",
    "prompt = '\"東京の観光名所を３つ教えてください。' ## 質問文\n",
    "\n",
    "response = client.chat.completions.create(\n",
    "    model=model, ## Model Name\n",
    "    max_tokens=4096, ## 最大トークン数\n",
    "    temperature=0.01,\n",
    "    top_p=0.01,\n",
    "    messages=[\n",
    "        {\"role\": \"system\", \"content\": \"あなたは優秀な日本の観光ガイドです。\"},\n",
    "        {\"role\": \"user\", \"content\": \"東京の観光名所を３つ教えてください\"},\n",
    "        {\"role\": \"assistant\", \"content\": \"\"\"承知しました。東京にはたくさんの観光スポットがありますが、ここでは三つをご紹介します: \n",
    "\n",
    "1. 東京スカイツリー: 2012年に開業した東京スカイツリーは、東京都有形文化財に指定されているタワービルのひとつです。高さ378mあり、展望台からは東京の街並みや富士山などを一望することができます。\n",
    "\n",
    "2. 東京タワー: 1958年に開業した東京タワーは、日本初の本格的な電波塔として有名です。高さ333mあり、展望台からは東京の街並みやレインボーブリッジなどを一望することができます。\n",
    "\n",
    "3. 東京国立博物館: 1959年に開業した東京国立博物館は、日本最古で最大級の美術館の一つです。国宝や重要文化財を含む約110,000点もの美術品を収蔵しており、そのコレクションは世界的に有名です。\"\"\"},\n",
    "        {\"role\": \"user\", \"content\": \"他にお勧めはありますか？\"},\n",
    "    ],\n",
    "    stream=True, ## Streaming output\n",
    ")\n",
    "\n",
    "# Streaming output\n",
    "for chunk in response:\n",
    "    s = chunk.choices[0].delta.content\n",
    "    ## 最初と最後にNoneが入るため除外（理由不明）\n",
    "    if s is not None:\n",
    "        print(s, end='')"
   ]
  },
  {
   "cell_type": "markdown",
   "id": "884c88b8-b508-4e1c-9ed0-a7d56137224f",
   "metadata": {},
   "source": [
    "### Server Message\n",
    "```\n",
    "llama_print_timings:        load time =   75647.07 ms  \r\n",
    "llama_print_timings:      sample time =      61.24 ms /   145 runs   (    0.42 ms per token,  2367.89 tokens per second  )\r\n",
    "llama_print_timings: prompt eval time =   75646.47 ms /   296 tokens (  255.56 ms per token,     3.91 tokens per secon  d)\r\n",
    "llama_print_timings:        eval time =   37538.98 ms /   144 runs   (  260.69 ms per token,     3.84 tokens per seco  nd)\r\n",
    "llama_print_timings:       total time =  114777.0  \n",
    "\n",
    "```0 ms"
   ]
  }
 ],
 "metadata": {
  "kernelspec": {
   "display_name": "Python 3 (ipykernel)",
   "language": "python",
   "name": "python3"
  },
  "language_info": {
   "codemirror_mode": {
    "name": "ipython",
    "version": 3
   },
   "file_extension": ".py",
   "mimetype": "text/x-python",
   "name": "python",
   "nbconvert_exporter": "python",
   "pygments_lexer": "ipython3",
   "version": "3.10.13"
  }
 },
 "nbformat": 4,
 "nbformat_minor": 5
}
